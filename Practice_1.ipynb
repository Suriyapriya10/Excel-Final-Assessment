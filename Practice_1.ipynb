{
  "nbformat": 4,
  "nbformat_minor": 0,
  "metadata": {
    "colab": {
      "provenance": [],
      "include_colab_link": true
    },
    "kernelspec": {
      "name": "python3",
      "display_name": "Python 3"
    },
    "language_info": {
      "name": "python"
    }
  },
  "cells": [
    {
      "cell_type": "markdown",
      "metadata": {
        "id": "view-in-github",
        "colab_type": "text"
      },
      "source": [
        "<a href=\"https://colab.research.google.com/github/Suriyapriya10/Excel-Final-Assessment/blob/main/Practice_1.ipynb\" target=\"_parent\"><img src=\"https://colab.research.google.com/assets/colab-badge.svg\" alt=\"Open In Colab\"/></a>"
      ]
    },
    {
      "cell_type": "markdown",
      "source": [
        "**Question 1:**\n",
        "\n",
        "A weather forecasting company wants to store daily temperature data for different cities.\n",
        "Develop a Python program to prompt users to input temperature data for multiple cities and store it in appropriate variables."
      ],
      "metadata": {
        "id": "__AjJ41SybLc"
      }
    },
    {
      "cell_type": "code",
      "source": [
        "city_temperatures = {}\n",
        "\n",
        "no_of_cities = int(input('Enter the number of cities:'))\n",
        "\n",
        "for i in range(no_of_cities):\n",
        "  city = input('Enter the name of the city {i+1}:')\n",
        "  temperature = input(f\"Enter the temperature for {city}: \")\n",
        "  city_temperatures[city] = temperature\n",
        "\n",
        "print(\"\\nTemperature data for each city:\")\n",
        "for city, temperature in city_temperatures.items():\n",
        "  print(f\"{city}: {temperature} degree Celsius\")"
      ],
      "metadata": {
        "id": "cPT3hbwdBSfp",
        "colab": {
          "base_uri": "https://localhost:8080/",
          "height": 0
        },
        "outputId": "48bae977-c5b1-41bb-88b3-99f58d5982e7"
      },
      "execution_count": 87,
      "outputs": [
        {
          "output_type": "stream",
          "name": "stdout",
          "text": [
            "Enter the number of cities:2\n",
            "Enter the name of the city {i+1}:Chennai\n",
            "Enter the temperature for Chennai: 37\n",
            "Enter the name of the city {i+1}:Ooty\n",
            "Enter the temperature for Ooty: 15\n",
            "\n",
            "Temperature data for each city:\n",
            "Chennai: 37 degree Celsius\n",
            "Ooty: 15 degree Celsius\n"
          ]
        }
      ]
    },
    {
      "cell_type": "markdown",
      "source": [
        "**Question 2:**\n",
        " A gaming company is developing a character creation system for their new role-playing game. Develop a Python program that allows users to input characteristics such as name, race, class, and abilities for their characters."
      ],
      "metadata": {
        "id": "3VGBYQEfKYBA"
      }
    },
    {
      "cell_type": "code",
      "source": [
        "characteristics = {}\n",
        "\n",
        "name = input('Enter your name:')\n",
        "race = input('Enter your race:')\n",
        "clas = input('Enter your class:')\n",
        "ability = input('Enter your abilities:')\n",
        "\n",
        "characteristics['Name'] = name\n",
        "characteristics['Race'] = race\n",
        "characteristics['Class'] = clas\n",
        "characteristics['Abilities'] = ability\n",
        "\n",
        "print(f'The characteristics are: ')\n",
        "for key, value in characteristics.items():\n",
        "  print(f'{key}:{value}')"
      ],
      "metadata": {
        "colab": {
          "base_uri": "https://localhost:8080/",
          "height": 0
        },
        "id": "9lB6DFdNEzyg",
        "outputId": "8e99b65c-6647-4c8e-9164-6bf323c5e9cc"
      },
      "execution_count": 19,
      "outputs": [
        {
          "output_type": "stream",
          "name": "stdout",
          "text": [
            "Enter your name:sp\n",
            "Enter your race:indian\n",
            "Enter your class:south asian\n",
            "Enter your abilities:mind reading\n",
            "The characteristics are: \n",
            "Name:sp\n",
            "Race:indian\n",
            "Class:south asian\n",
            "Abilities:mind reading\n"
          ]
        }
      ]
    },
    {
      "cell_type": "markdown",
      "source": [
        "**Question 3:**\n",
        "You are organizing a school event where students will be asked to sign up using a form.Write a Python program that prompts the user to enter their name, age, and grade, and then prints a welcome message including their name and an appropriate message based on their age and grade.\n"
      ],
      "metadata": {
        "id": "sCV9rC3YCt9C"
      }
    },
    {
      "cell_type": "code",
      "source": [
        "school ={}\n",
        "\n",
        "name=input('enter your name:')\n",
        "age=int(input('enter your age:'))\n",
        "grade=str(input('enter your grade:'))\n",
        "\n",
        "if age <= 18:\n",
        "    if grade == 'A':\n",
        "        print(f'{name}: Hi bloomer, you are a rising star')\n",
        "    elif grade == 'B':\n",
        "        print(f'{name}: Hi bloomer, you are a star')\n",
        "    else:\n",
        "        print(f'{name}: Hi bloomer, you are about to shine')\n",
        "else:\n",
        "    if grade == 'A':\n",
        "        print(f'{name}: Hi adult, you are a rising star')\n",
        "    elif grade == 'B':\n",
        "        print(f'{name}: Hi adult, you are a star')\n",
        "    else:\n",
        "        print(f'{name}: Hi adult, you are about to shine')"
      ],
      "metadata": {
        "colab": {
          "base_uri": "https://localhost:8080/",
          "height": 0
        },
        "id": "XKL4TmMjG3aR",
        "outputId": "41687c03-4f0a-4361-a04d-d189fb9335ca"
      },
      "execution_count": 23,
      "outputs": [
        {
          "output_type": "stream",
          "name": "stdout",
          "text": [
            "enter your name:supri\n",
            "enter your age:22\n",
            "enter your grade:A\n",
            "supri: Hi adult, you are a rising star\n"
          ]
        }
      ]
    },
    {
      "cell_type": "markdown",
      "source": [
        "**Question 4:**\n",
        "You are managing inventory for a small store. Write a Python program that simulates adding items to a shopping cart. Allow the user to input the item name, quantity, and price, and then calculate the total cost of the items in the cart."
      ],
      "metadata": {
        "id": "jtSomzgoyQO9"
      }
    },
    {
      "cell_type": "code",
      "source": [
        "store = []\n",
        "\n",
        "total = 0\n",
        "no_items=int(input('enter total items:'))\n",
        "\n",
        "for i in range(no_items):\n",
        "  item_name=input(f'Enter item name {i+1}: ')\n",
        "  quantity=int(input('Enter quantity:'))\n",
        "  price=int(input('Enter the price:'))\n",
        "\n",
        "  item={'item_name':item_name,'quantity':quantity,'price':price}\n",
        "  store.append(item)\n",
        "\n",
        "  total += quantity * price\n",
        "\n",
        "print(f'Total cost of items in the cart: ${total}')\n"
      ],
      "metadata": {
        "colab": {
          "base_uri": "https://localhost:8080/",
          "height": 0
        },
        "id": "D9YaSPbIKUX4",
        "outputId": "56b0141f-a072-4a74-f7fa-c8eb17b6d3da"
      },
      "execution_count": 44,
      "outputs": [
        {
          "output_type": "stream",
          "name": "stdout",
          "text": [
            "enter total items:3\n",
            "Enter item name 1: choco\n",
            "Enter quantity:1\n",
            "Enter the price:10\n",
            "Enter item name 2: juice\n",
            "Enter quantity:1\n",
            "Enter the price:10\n",
            "Enter item name 3: biscuit\n",
            "Enter quantity:1\n",
            "Enter the price:10\n",
            "Total cost of items in the cart: $10\n"
          ]
        }
      ]
    },
    {
      "cell_type": "markdown",
      "source": [
        "**Question 5:**\n",
        "A music streaming service wants to create personalized playlists for users based on their favorite genres and artists. Develop a Python program that uses lists and dictionaries to store user preferences and recommend songs accordingly.\n"
      ],
      "metadata": {
        "id": "JQxoLKZXDO-B"
      }
    },
    {
      "cell_type": "code",
      "source": [
        "genres = input('Enter your favorite genre: ').split(',')\n",
        "artists = input('Enter your favorite artist: ').split(',')\n",
        "songs = {'genre': ['Pop', 'Melody', 'Rock', 'Country'],\n",
        "         'artist': ['MJ', 'Ed', 'Taylor', 'Ariana'],\n",
        "         'song': [\n",
        "            ['Billie Jean','Beat It','Smooth Criminal'],\n",
        "            ['Bad Habits', 'Thinking Out Loud','Perfect'],\n",
        "            ['Blank Space', 'Red','Midnight'],\n",
        "            ['pov','boyfriend','thank you,next'],\n",
        "            ]\n",
        "         }\n",
        "\n",
        "recommendations = []\n",
        "\n",
        "for genre, artist in zip(genres, artists):\n",
        "    for i in range(len(songs['genre'])):\n",
        "        if genre in songs['genre'][i] and artist == songs['artist'][i]:\n",
        "            recommendations.extend(songs['song'][i])\n",
        "\n",
        "print('Your recommendations:',','.join(recommendations))"
      ],
      "metadata": {
        "colab": {
          "base_uri": "https://localhost:8080/",
          "height": 0
        },
        "id": "kXcVylM9bm4S",
        "outputId": "55daf230-5eed-4431-d841-682ac768a9e5"
      },
      "execution_count": 82,
      "outputs": [
        {
          "output_type": "stream",
          "name": "stdout",
          "text": [
            "Enter your favorite genre: Pop\n",
            "Enter your favorite artist: MJ\n",
            "Your recommendations: Billie Jean,Beat It,Smooth Criminal\n"
          ]
        }
      ]
    },
    {
      "cell_type": "markdown",
      "source": [
        "**Question 6:**\n",
        "A logistics company needs to track the inventory levels of different products in multiple warehouses. Develop a Python program that uses nested dictionaries to represent warehouse inventory data and allows users to update and retrieve information.\n"
      ],
      "metadata": {
        "id": "hgg43ZyxDwmt"
      }
    },
    {
      "cell_type": "code",
      "source": [
        "class InventoryManager:\n",
        "    def __init__(self):\n",
        "        self.inventory = {}\n",
        "\n",
        "    def add_product(self, warehouse, product, quantity):\n",
        "        if warehouse not in self.inventory:\n",
        "            self.inventory[warehouse] = {}\n",
        "        self.inventory[warehouse][product] = quantity\n",
        "\n",
        "    def update_quantity(self, warehouse, product, quantity):\n",
        "        if warehouse in self.inventory and product in self.inventory[warehouse]:\n",
        "            self.inventory[warehouse][product] += quantity\n",
        "        else:\n",
        "            print(\"Product or warehouse not found.\")\n",
        "\n",
        "    def get_quantity(self, warehouse, product):\n",
        "        if warehouse in self.inventory and product in self.inventory[warehouse]:\n",
        "            return self.inventory[warehouse][product]\n",
        "        else:\n",
        "            print(\"Product or warehouse not found.\")\n",
        "            return None\n",
        "\n",
        "    def display_inventory(self):\n",
        "        print(\"Warehouse Inventory:\")\n",
        "        for warehouse, products in self.inventory.items():\n",
        "            print(f\"Warehouse: {warehouse}\")\n",
        "            for product, quantity in products.items():\n",
        "                print(f\"  - Product: {product}, Quantity: {quantity}\")\n",
        "\n",
        "\n",
        "def main():\n",
        "    manager = InventoryManager()\n",
        "\n",
        "    manager.add_product('Warehouse A', 'Product 1', 100)\n",
        "    manager.add_product('Warehouse A', 'Product 2', 200)\n",
        "    manager.add_product('Warehouse B', 'Product 1', 150)\n",
        "    manager.add_product('Warehouse B', 'Product 3', 300)\n",
        "\n",
        "    manager.display_inventory()\n",
        "\n",
        "    manager.update_quantity('Warehouse A', 'Product 1', -50)\n",
        "\n",
        "    quantity = manager.get_quantity('Warehouse A', 'Product 1')\n",
        "    if quantity is not None:\n",
        "        print(f\"Quantity of Product 1 in Warehouse A: {quantity}\")\n",
        "\n",
        "    manager.display_inventory()\n",
        "\n",
        "\n",
        "if __name__ == \"__main__\":\n",
        "    main()"
      ],
      "metadata": {
        "id": "63HrAFkgiif5"
      },
      "execution_count": null,
      "outputs": []
    },
    {
      "cell_type": "markdown",
      "source": [
        "**Question 7:**\n",
        "You are organizing a team-building activity for a group of students. Write a Python program that randomly assigns students to teams of 3. Ensure that each team has an equal number of members, and print out the list of teams with their members.\n"
      ],
      "metadata": {
        "id": "KIKOrOSTD-EU"
      }
    },
    {
      "cell_type": "code",
      "source": [
        "import random\n",
        "\n",
        "students = {'name':['A','B','C','D','E','F','G','H','I','J','K','L','M','N','O']}\n",
        "teams = {'t_name':['TeamA','TeamB','TeamC','TeamD','TeamE']}\n",
        "\n",
        "student_names = students['name']\n",
        "random.shuffle(student_names)\n",
        "\n",
        "team_size = 3\n",
        "teams_with_members = [student_names[i:i+team_size] for i in range(0, len(student_names), team_size)]\n",
        "team_assignments = {team_name: team_members for team_name, team_members in zip(teams['t_name'], teams_with_members)}\n",
        "\n",
        "for team_name, team_members in team_assignments.items():\n",
        "    print(f\"{team_name}: {', '.join(team_members)}\")\n"
      ],
      "metadata": {
        "colab": {
          "base_uri": "https://localhost:8080/",
          "height": 0
        },
        "id": "o8CRo3vvixFl",
        "outputId": "83229041-d690-4c24-8c21-61a4bbb45b99"
      },
      "execution_count": 84,
      "outputs": [
        {
          "output_type": "stream",
          "name": "stdout",
          "text": [
            "TeamA: F, N, E\n",
            "TeamB: G, D, J\n",
            "TeamC: K, L, M\n",
            "TeamD: H, O, A\n",
            "TeamE: I, B, C\n"
          ]
        }
      ]
    },
    {
      "cell_type": "markdown",
      "source": [
        "**Question 8:**\n",
        "You are building a password manager application. Write a Python program that stores passwords for different accounts in a dictionary, where the keys are the account names and the values are the passwords. Allow the user to add, retrieve, and delete passwords.\n"
      ],
      "metadata": {
        "id": "JIp7dNH3EJwV"
      }
    },
    {
      "cell_type": "code",
      "source": [
        "def add_password(passwords):\n",
        "    account_name = input('Enter the account name: ')\n",
        "    password = input('Enter the password: ')\n",
        "    passwords[account_name] = password\n",
        "    print(f'Password for account \"{account_name}\" added successfully.')\n",
        "\n",
        "def retrieve_password(passwords):\n",
        "    account_name = input('Enter the account name: ')\n",
        "    if account_name in passwords:\n",
        "        print(f'Password for account \"{account_name}\": {passwords[account_name]}')\n",
        "    else:\n",
        "        print(f'Password for account \"{account_name}\" not found.')\n",
        "\n",
        "def delete_password(passwords):\n",
        "    account_name = input('Enter the account name: ')\n",
        "    if account_name in passwords:\n",
        "        del passwords[account_name]\n",
        "        print(f'Password for account \"{account_name}\" deleted successfully.')\n",
        "    else:\n",
        "        print(f'Password for account \"{account_name}\" not found.')\n",
        "\n",
        "def main():\n",
        "    passwords = {}\n",
        "    while True:\n",
        "        print(\"\\nPassword Manager Menu:\")\n",
        "        print(\"1. Add a password\")\n",
        "        print(\"2. Retrieve a password\")\n",
        "        print(\"3. Delete a password\")\n",
        "        choice = input(\"Enter your choice (1-3): \")\n",
        "\n",
        "        if choice == '1':\n",
        "            add_password(passwords)\n",
        "        elif choice == '2':\n",
        "            retrieve_password(passwords)\n",
        "        elif choice == '3':\n",
        "            delete_password(passwords)\n",
        "        else:\n",
        "            break\n",
        "\n",
        "if __name__ == \"__main__\":\n",
        "    main()"
      ],
      "metadata": {
        "colab": {
          "base_uri": "https://localhost:8080/",
          "height": 0
        },
        "id": "7ma4pvFso3nA",
        "outputId": "034e6ec9-f08e-44ab-817a-33fd70ede13b"
      },
      "execution_count": 11,
      "outputs": [
        {
          "name": "stdout",
          "output_type": "stream",
          "text": [
            "\n",
            "Password Manager Menu:\n",
            "1. Add a password\n",
            "2. Retrieve a password\n",
            "3. Delete a password\n",
            "Enter your choice (1-3): 1\n",
            "Enter the account name: supri\n",
            "Enter the password: 1234\n",
            "Password for account \"supri\" added successfully.\n",
            "\n",
            "Password Manager Menu:\n",
            "1. Add a password\n",
            "2. Retrieve a password\n",
            "3. Delete a password\n",
            "Enter your choice (1-3): 2\n",
            "Enter the account name: supri\n",
            "Password for account \"supri\": 1234\n",
            "\n",
            "Password Manager Menu:\n",
            "1. Add a password\n",
            "2. Retrieve a password\n",
            "3. Delete a password\n",
            "Enter your choice (1-3): 4\n"
          ]
        }
      ]
    },
    {
      "cell_type": "markdown",
      "source": [
        "**Question 9:**\n",
        "A fitness app wants to calculate the user's body mass index (BMI) based on their weight and height. Develop a Python program that prompts users to input their weight (in kilograms) and height (in meters) and calculates their BMI using arithmetic operators.\n"
      ],
      "metadata": {
        "id": "CUsHHfNOFlq5"
      }
    },
    {
      "cell_type": "code",
      "source": [
        "height=float(input('Enter height (in meters): '))\n",
        "weight=float(input('Enter weight (in kilograms)'))\n",
        "bmi=weight/(height**2)\n",
        "print('Your bmi is:',bmi)"
      ],
      "metadata": {
        "colab": {
          "base_uri": "https://localhost:8080/",
          "height": 0
        },
        "id": "Vuj-rU34WGBb",
        "outputId": "08c97f5d-e132-4213-cb1b-d47a6a777261"
      },
      "execution_count": 19,
      "outputs": [
        {
          "output_type": "stream",
          "name": "stdout",
          "text": [
            "Enter height (in meters): 166\n",
            "Enter weight (in kilograms)50\n",
            "Your bmi is: 0.001814486863115111\n"
          ]
        }
      ]
    },
    {
      "cell_type": "markdown",
      "source": [
        "**Question 10:**\n",
        "A financial institution wants to calculate compound interest for different investment accounts. Develop a Python program that prompts users to input the principal amount, interest rate, and time period, and calculates the compound interest using arithmetic operators.\n"
      ],
      "metadata": {
        "id": "qkqAJc6zF76J"
      }
    },
    {
      "cell_type": "code",
      "source": [
        "pa=float(input('enter pa:'))\n",
        "ir=float(input('enter interest rate(in percent):'))\n",
        "tp=float(input('enter time period(in years):'))\n",
        "ir /= 100\n",
        "amount = pa * (1 + ir) ** tp\n",
        "ci = amount - pa\n",
        "print('Your coumpound interest is:',ci)"
      ],
      "metadata": {
        "colab": {
          "base_uri": "https://localhost:8080/",
          "height": 0
        },
        "id": "Ox7ioBeAYKgr",
        "outputId": "4932810a-68e8-40a6-bc89-055b6da223b4"
      },
      "execution_count": 21,
      "outputs": [
        {
          "output_type": "stream",
          "name": "stdout",
          "text": [
            "enter pa:15000\n",
            "enter interest rate:10\n",
            "enter time period:2\n",
            "Your coumpound interest is: 3150.0000000000036\n"
          ]
        }
      ]
    },
    {
      "cell_type": "markdown",
      "source": [
        "**Question 11:**\n",
        "You are designing a game where players roll two dice and sum the results. Write a Python program that simulates rolling two dice and calculates the sum. Allow the user to roll the dice multiple times and display the results.\n"
      ],
      "metadata": {
        "id": "mpJPLo9uGFi3"
      }
    },
    {
      "cell_type": "code",
      "source": [],
      "metadata": {
        "id": "1Au-gH91aVV_"
      },
      "execution_count": null,
      "outputs": []
    },
    {
      "cell_type": "markdown",
      "source": [
        "**Question 12:**\n",
        "You are developing a program to calculate shipping costs for an online store. Write a Python program that prompts the user to enter the weight of their package and the distance it needs to be shipped. Calculate the shipping cost based on a flat rate per pound and a per-mile charge.\n"
      ],
      "metadata": {
        "id": "SrK5QaMwGH3x"
      }
    },
    {
      "cell_type": "code",
      "source": [
        "wt=float(input('Enter weight (in pounds):'))\n",
        "dt=float(input('Enter distance (in miles):'))\n",
        "costperpound=2\n",
        "costpermile=10\n",
        "cost=(wt*costperpound)+(dt*costpermile)\n",
        "print('Shipping cost is:',cost)"
      ],
      "metadata": {
        "colab": {
          "base_uri": "https://localhost:8080/",
          "height": 0
        },
        "id": "3w3uu5HRafsO",
        "outputId": "a830e772-970e-4d06-b381-81a9a212a8a3"
      },
      "execution_count": 22,
      "outputs": [
        {
          "output_type": "stream",
          "name": "stdout",
          "text": [
            "Enter weight (in pounds):10\n",
            "Enter distance (in miles):5\n",
            "Shipping cost is: 70.0\n"
          ]
        }
      ]
    },
    {
      "cell_type": "markdown",
      "source": [
        "**Question 13:**\n",
        "An e-commerce platform wants to offer discounts on purchases during a sale event. Develop a Python program that applies different discount rates based on the total purchase amount and displays the final price after applying the discount."
      ],
      "metadata": {
        "id": "9bCsaRuAGIeY"
      }
    },
    {
      "cell_type": "code",
      "source": [
        "purchaseamount=float(input('Enter purchase amount:'))\n",
        "if purchaseamount >=10000:\n",
        "  discountrate=40\n",
        "elif 5000 <= purchaseamount < 10000:\n",
        "  discountrate=20\n",
        "elif 3000 <= purchaseamount < 5000:\n",
        "  discountrate=10\n",
        "else:\n",
        "  discountrate=0\n",
        "discountrate /= 100\n",
        "discount = purchaseamount * discountrate\n",
        "finalprice=purchaseamount - discount\n",
        "print('Final price:',finalprice)"
      ],
      "metadata": {
        "colab": {
          "base_uri": "https://localhost:8080/",
          "height": 0
        },
        "id": "ZFL1T31IbWlb",
        "outputId": "136d18aa-3cd8-4f7d-840c-57689cd2a858"
      },
      "execution_count": 26,
      "outputs": [
        {
          "output_type": "stream",
          "name": "stdout",
          "text": [
            "Enter purchase amount:7000\n",
            "Final price: 5600.0\n"
          ]
        }
      ]
    },
    {
      "cell_type": "markdown",
      "source": [
        "**Question 14:**\n",
        "A game developer wants to implement a scoring system for a multiplayer game. Develop a Python program that calculates the total score for each player based on their performance in the game and determines the winner.\n"
      ],
      "metadata": {
        "id": "SYgqNFYSGJAr"
      }
    },
    {
      "cell_type": "code",
      "source": [],
      "metadata": {
        "id": "1Vg3Yu5SklpI"
      },
      "execution_count": null,
      "outputs": []
    },
    {
      "cell_type": "markdown",
      "source": [
        "**Question 15:**\n",
        "A restaurant offers different discounts based on the time of day. Write a Python program that prompts the user for the current time and calculates the appropriate discount based on the following criteria: 10% discount for breakfast (before 10 AM), 20% discount for lunch (between 12 PM and 3 PM), and 15% discount for dinner (after 6 PM). Display the calculated discount to the user.\n"
      ],
      "metadata": {
        "id": "DItKa9JTGJX-"
      }
    },
    {
      "cell_type": "code",
      "source": [
        "time=int(input('enter time (hh 24 hr format):'))\n",
        "if time <= 10:\n",
        "  discountrate = 10\n",
        "elif 12 <= time <= 15:\n",
        "  discountrate = 20\n",
        "elif time <= 18:\n",
        "  discountrate = 15\n",
        "print('Discount:',discountrate)"
      ],
      "metadata": {
        "colab": {
          "base_uri": "https://localhost:8080/",
          "height": 0
        },
        "id": "ENTmcmczk_gi",
        "outputId": "df795734-5247-42a2-fc0f-9583846892b6"
      },
      "execution_count": 28,
      "outputs": [
        {
          "output_type": "stream",
          "name": "stdout",
          "text": [
            "enter time (hh 24 hr format):14\n",
            "Discount: 20\n"
          ]
        }
      ]
    },
    {
      "cell_type": "markdown",
      "source": [
        "**Question 16:**\n",
        "You are organizing a tournament with a single-elimination format. Write a Python program that takes a list of participants and randomly generates the matchups for each round. Print out the matchups for each round until a winner is determined.\n"
      ],
      "metadata": {
        "id": "vINzwcxgGJ1s"
      }
    },
    {
      "cell_type": "code",
      "source": [
        "import random\n",
        "\n",
        "num = int(input('Enter number of participants: '))\n",
        "participants = []\n",
        "\n",
        "for _ in range(num):\n",
        "    name = input('Enter participant name: ')\n",
        "    participants.append(name)\n",
        "\n",
        "random.shuffle(participants)\n",
        "\n",
        "round_size = 2\n",
        "rounds_with_members = [participants[i:i+round_size] for i in range(0, len(participants), round_size)]\n",
        "\n",
        "round_names = [f'Round {i+1}' for i in range(len(rounds_with_members))]\n",
        "\n",
        "round_assignment = {round_name: round_members for round_name, round_members in zip(round_names, rounds_with_members)}\n",
        "\n",
        "for round_name, round_members in round_assignment.items():\n",
        "    print(f\"{round_name}: {', '.join(round_members)}\")"
      ],
      "metadata": {
        "colab": {
          "base_uri": "https://localhost:8080/",
          "height": 0
        },
        "id": "PeUNGvWvqK1a",
        "outputId": "e82f8d35-298e-4cdd-fde3-13a01f755c67"
      },
      "execution_count": 37,
      "outputs": [
        {
          "output_type": "stream",
          "name": "stdout",
          "text": [
            "Enter number of participants: 7\n",
            "Enter participant name: s\n",
            "Enter participant name: d\n",
            "Enter participant name: f\n",
            "Enter participant name: g\n",
            "Enter participant name: h\n",
            "Enter participant name: i\n",
            "Enter participant name: l\n",
            "Round 1: i, s\n",
            "Round 2: l, d\n",
            "Round 3: h, f\n",
            "Round 4: g\n"
          ]
        }
      ]
    },
    {
      "cell_type": "markdown",
      "source": [
        "**Question 17:**\n",
        "A data analysis company wants to perform statistical analysis on a dataset containing sales data. Develop a Python program that defines functions for calculating the mean, median, and standard deviation of the dataset and uses them to analyze the data.\n"
      ],
      "metadata": {
        "id": "dargzT41GKMQ"
      }
    },
    {
      "cell_type": "code",
      "source": [
        "import math\n",
        "\n",
        "def calculate_mean(data):\n",
        "    return sum(data) / len(data)\n",
        "\n",
        "def calculate_median(data):\n",
        "    sorted_data = sorted(data)\n",
        "    n = len(sorted_data)\n",
        "    if n % 2 == 0:\n",
        "        return (sorted_data[n//2 - 1] + sorted_data[n//2]) / 2\n",
        "    else:\n",
        "        return sorted_data[n//2]\n",
        "\n",
        "def calculate_standard_deviation(data):\n",
        "    mean = calculate_mean(data)\n",
        "    variance = sum((x - mean) ** 2 for x in data) / len(data)\n",
        "    return math.sqrt(variance)\n",
        "\n",
        "sales_data = [100, 150, 200, 250, 300]\n",
        "\n",
        "mean_sales = calculate_mean(sales_data)\n",
        "print(\"Mean of sales data:\", mean_sales)\n",
        "\n",
        "median_sales = calculate_median(sales_data)\n",
        "print(\"Median of sales data:\", median_sales)\n",
        "\n",
        "std_dev_sales = calculate_standard_deviation(sales_data)\n",
        "print(\"Standard deviation of sales data:\", std_dev_sales)\n"
      ],
      "metadata": {
        "colab": {
          "base_uri": "https://localhost:8080/",
          "height": 0
        },
        "id": "BMdWikSbrH7-",
        "outputId": "4f411cae-6c06-4436-d0d6-8ed41b79f302"
      },
      "execution_count": 39,
      "outputs": [
        {
          "output_type": "stream",
          "name": "stdout",
          "text": [
            "Mean of sales data: 200.0\n",
            "Median of sales data: 200\n",
            "Standard deviation of sales data: 70.71067811865476\n"
          ]
        }
      ]
    },
    {
      "cell_type": "markdown",
      "source": [
        "**Question 18:**\n",
        "A social media platform wants to implement user authentication and authorization functionality. Develop a Python program that defines functions for user login, registration, and access control, and uses them to manage user accounts.\n"
      ],
      "metadata": {
        "id": "UUiONungGKmN"
      }
    },
    {
      "cell_type": "code",
      "source": [
        "class User:\n",
        "    def __init__(self, username, password):\n",
        "        self.username = username\n",
        "        self.password = password\n",
        "\n",
        "class AuthenticationSystem:\n",
        "    def __init__(self):\n",
        "        self.users = {}\n",
        "\n",
        "    def register_user(self, username, password):\n",
        "        if username in self.users:\n",
        "            print(\"Username already exists. Please choose a different username.\")\n",
        "        else:\n",
        "            self.users[username] = User(username, password)\n",
        "            print(\"User registered successfully.\")\n",
        "\n",
        "    def login_user(self, username, password):\n",
        "        if username in self.users and self.users[username].password == password:\n",
        "            print(\"Login successful.\")\n",
        "            return True\n",
        "        else:\n",
        "            print(\"Invalid username or password. Please try again.\")\n",
        "            return False\n",
        "\n",
        "auth_system = AuthenticationSystem()\n",
        "\n",
        "auth_system.register_user(\"user1\", \"password1\")\n",
        "auth_system.register_user(\"user2\", \"password2\")\n",
        "\n",
        "auth_system.login_user(\"user1\", \"password1\")\n",
        "auth_system.login_user(\"user1\", \"wrong_password\")\n",
        "auth_system.login_user(\"user3\", \"password3\")"
      ],
      "metadata": {
        "colab": {
          "base_uri": "https://localhost:8080/",
          "height": 0
        },
        "id": "lEnCwGLwrcu6",
        "outputId": "e4b0bbcc-915f-4403-f8d3-e4415e06edf6"
      },
      "execution_count": 40,
      "outputs": [
        {
          "output_type": "stream",
          "name": "stdout",
          "text": [
            "User registered successfully.\n",
            "User registered successfully.\n",
            "Login successful.\n",
            "Invalid username or password. Please try again.\n",
            "Invalid username or password. Please try again.\n"
          ]
        },
        {
          "output_type": "execute_result",
          "data": {
            "text/plain": [
              "False"
            ]
          },
          "metadata": {},
          "execution_count": 40
        }
      ]
    },
    {
      "cell_type": "markdown",
      "source": [
        "**Question 19:**\n",
        "You are building a calculator application with various mathematical functions. Write a Python program that defines functions for addition, subtraction, multiplication, and division. Allow the user to choose a function and input the numbers to perform the calculation.\n"
      ],
      "metadata": {
        "id": "K4PIKyVpGLB0"
      }
    },
    {
      "cell_type": "code",
      "source": [
        "calculator = {}\n",
        "\n",
        "def addition(calculator):\n",
        "  num1=float(input('Enter number1:'))\n",
        "  num2=float(input('Enter number2:'))\n",
        "  add=num1+num2\n",
        "  print('Answer:',add)\n",
        "\n",
        "def subtraction(calculator):\n",
        "  num1=float(input('Enter number1:'))\n",
        "  num2=float(input('Enter number2:'))\n",
        "  sub=num1-num2\n",
        "  print('Answer:',sub)\n",
        "\n",
        "def multiplication(calculator):\n",
        "  num1=float(input('Enter number1:'))\n",
        "  num2=float(input('Enter number2:'))\n",
        "  multiply=num1*num2\n",
        "  print('Answer:',multiply)\n",
        "\n",
        "def division(calculator):\n",
        "  num1=float(input('Enter number1:'))\n",
        "  num2=float(input('Enter number2:'))\n",
        "  div=num1/num2\n",
        "  print('Answer:',div)\n",
        "\n",
        "def main():\n",
        "    calculator = {}\n",
        "    while True:\n",
        "        print(\"\\nChoose a function:\")\n",
        "        print(\"1. Addition\")\n",
        "        print(\"2. Subtraction\")\n",
        "        print(\"3. Multiplication\")\n",
        "        print(\"4. Divisiion\")\n",
        "        choice = input(\"Enter your choice (1-4): \")\n",
        "\n",
        "        if choice == '1':\n",
        "            addition(calculator)\n",
        "        elif choice == '2':\n",
        "            subtraction(calculator)\n",
        "        elif choice == '3':\n",
        "            multiplication(calculator)\n",
        "        elif choice == '4':\n",
        "            division(calculator)\n",
        "        else:\n",
        "            break\n",
        "\n",
        "if __name__ == \"__main__\":\n",
        "    main()"
      ],
      "metadata": {
        "colab": {
          "base_uri": "https://localhost:8080/",
          "height": 0
        },
        "id": "3pfivpehuZuK",
        "outputId": "45a695bc-9d90-4119-f36a-fdb4a3df8fca"
      },
      "execution_count": 47,
      "outputs": [
        {
          "name": "stdout",
          "output_type": "stream",
          "text": [
            "\n",
            "Choose a function:\n",
            "1. Addition\n",
            "2. Subtraction\n",
            "3. Multiplication\n",
            "4. Divisiion\n",
            "Enter your choice (1-4): 1\n",
            "Enter number1:1\n",
            "Enter number2:3\n",
            "Answer: 4.0\n",
            "\n",
            "Choose a function:\n",
            "1. Addition\n",
            "2. Subtraction\n",
            "3. Multiplication\n",
            "4. Divisiion\n",
            "Enter your choice (1-4): 5\n"
          ]
        }
      ]
    },
    {
      "cell_type": "markdown",
      "source": [
        "**Question 20:**\n",
        "A company is organizing a team-building exercise where employees will participate in various activities. Write a Python program to randomly assign employees to teams for each activity, ensuring that each team has an equal number of members.\n",
        "\n"
      ],
      "metadata": {
        "id": "fDUl1UN4GLcB"
      }
    },
    {
      "cell_type": "code",
      "source": [
        "import random\n",
        "\n",
        "employees = {'name':['A','B','C','D','E','F','G','H','I','J','K','L','M','N','O']}\n",
        "teams = {'t_name':['TeamA','TeamB','TeamC','TeamD','TeamE']}\n",
        "\n",
        "employee_names = employees['name']\n",
        "random.shuffle(employee_names)\n",
        "\n",
        "team_size = 3\n",
        "teams_with_members = [employee_names[i:i+team_size] for i in range(0, len(employee_names), team_size)]\n",
        "team_assignments = {team_name: team_members for team_name, team_members in zip(teams['t_name'], teams_with_members)}\n",
        "\n",
        "for team_name, team_members in team_assignments.items():\n",
        "    print(f\"{team_name}: {', '.join(team_members)}\")"
      ],
      "metadata": {
        "colab": {
          "base_uri": "https://localhost:8080/",
          "height": 0
        },
        "id": "9n9bF6YjzQMq",
        "outputId": "0f999e19-8f74-4e92-fdf8-77f3f0e919a7"
      },
      "execution_count": 48,
      "outputs": [
        {
          "output_type": "stream",
          "name": "stdout",
          "text": [
            "TeamA: N, D, H\n",
            "TeamB: L, M, B\n",
            "TeamC: K, A, E\n",
            "TeamD: I, G, O\n",
            "TeamE: C, F, J\n"
          ]
        }
      ]
    },
    {
      "cell_type": "markdown",
      "source": [
        "**Question 21:**\n",
        "A ticket booking system encounters errors when processing user requests due to invalid input. Develop a Python program that handles errors such as invalid ticket quantities, incorrect payment information, and expired sessions.\n"
      ],
      "metadata": {
        "id": "77dn1GcaGL2k"
      }
    },
    {
      "cell_type": "code",
      "source": [
        "class TicketBookingSystem:\n",
        "    def __init__(self):\n",
        "        self.session_expiry = 3600  # Session expiry time in seconds\n",
        "\n",
        "    def book_tickets(self):\n",
        "        try:\n",
        "            # Simulate user input\n",
        "            ticket_quantity = int(input(\"Enter the number of tickets to book: \"))\n",
        "            if ticket_quantity <= 0:\n",
        "                raise ValueError(\"Invalid ticket quantity\")\n",
        "\n",
        "            payment_info = input(\"Enter payment information: \")\n",
        "            if not payment_info:\n",
        "                raise ValueError(\"Payment information is required\")\n",
        "\n",
        "            # Check session expiry\n",
        "            self.check_session_expiry()\n",
        "\n",
        "            # Proceed with booking\n",
        "            print(f\"Successfully booked {ticket_quantity} tickets.\")\n",
        "        except ValueError as e:\n",
        "            print(f\"Error: {e}\")\n",
        "        except SessionExpiredError:\n",
        "            print(\"Error: Session expired. Please log in again.\")\n",
        "\n",
        "    def check_session_expiry(self):\n",
        "        # Simulate session expiry check\n",
        "        raise SessionExpiredError(\"Session expired\")\n",
        "\n",
        "\n",
        "class SessionExpiredError(Exception):\n",
        "    pass\n",
        "\n",
        "\n",
        "def main():\n",
        "    ticket_system = TicketBookingSystem()\n",
        "    ticket_system.book_tickets()\n",
        "\n",
        "\n",
        "if __name__ == \"__main__\":\n",
        "    main()"
      ],
      "metadata": {
        "id": "m3CL_qzy1CD-"
      },
      "execution_count": null,
      "outputs": []
    },
    {
      "cell_type": "markdown",
      "source": [
        "**Question 22:**\n",
        "A data processing pipeline encounters errors when reading and writing data files due to file permissions and network issues. Develop a Python program that handles errors such as file not found, permission denied, and connection timeout."
      ],
      "metadata": {
        "id": "1WNO235CGMTG"
      }
    },
    {
      "cell_type": "code",
      "source": [
        "class DataProcessingPipeline:\n",
        "    def read_data(self, file_path):\n",
        "        try:\n",
        "            with open(file_path, 'r') as file:\n",
        "                data = file.read()\n",
        "                print(\"Data read successfully:\", data)\n",
        "        except FileNotFoundError:\n",
        "            print(\"Error: File not found at the specified path.\")\n",
        "        except PermissionError:\n",
        "            print(\"Error: Permission denied. Unable to read the file.\")\n",
        "        except Exception as e:\n",
        "            print(\"Error:\", e)\n",
        "\n",
        "    def write_data(self, file_path, data):\n",
        "        try:\n",
        "            with open(file_path, 'w') as file:\n",
        "                file.write(data)\n",
        "                print(\"Data written successfully to file.\")\n",
        "        except PermissionError:\n",
        "            print(\"Error: Permission denied. Unable to write to the file.\")\n",
        "        except Exception as e:\n",
        "            print(\"Error:\", e)\n",
        "\n",
        "pipeline = DataProcessingPipeline()\n",
        "\n",
        "pipeline.read_data(\"non_existent_file.txt\")\n",
        "\n",
        "pipeline.read_data(\"/root/sensitive_data.txt\")\n",
        "\n",
        "pipeline.write_data(\"/root/protected_directory/data.txt\", \"Sample data\")\n"
      ],
      "metadata": {
        "colab": {
          "base_uri": "https://localhost:8080/",
          "height": 0
        },
        "id": "EBT6qA3660pP",
        "outputId": "141cd0d3-d031-4084-cf98-b2beb3178644"
      },
      "execution_count": 49,
      "outputs": [
        {
          "output_type": "stream",
          "name": "stdout",
          "text": [
            "Error: File not found at the specified path.\n",
            "Error: File not found at the specified path.\n",
            "Error: [Errno 2] No such file or directory: '/root/protected_directory/data.txt'\n"
          ]
        }
      ]
    },
    {
      "cell_type": "markdown",
      "source": [
        "**Question 23:**\n",
        "A bank is developing an ATM system. Develop a Python program that simulates withdrawing money from an ATM. Handle errors such as insufficient funds, incorrect PIN entry, and invalid withdrawal amounts. Display appropriate error messages to the user and allow them to retry or cancel the transaction.\n"
      ],
      "metadata": {
        "id": "hVKnUvWPGMs2"
      }
    },
    {
      "cell_type": "code",
      "source": [
        "class ATM:\n",
        "    def __init__(self, balance, pin):\n",
        "        self.balance = balance\n",
        "        self.pin = pin\n",
        "\n",
        "    def withdraw(self, amount, entered_pin):\n",
        "        try:\n",
        "            if entered_pin != self.pin:\n",
        "                raise ValueError(\"Incorrect PIN. Please try again.\")\n",
        "            if amount <= 0:\n",
        "                raise ValueError(\"Invalid withdrawal amount. Please enter a positive amount.\")\n",
        "            if amount > self.balance:\n",
        "                raise ValueError(\"Insufficient funds.\")\n",
        "\n",
        "            self.balance -= amount\n",
        "            print(f\"Withdrawal successful. Remaining balance: {self.balance}\")\n",
        "        except ValueError as e:\n",
        "            print(\"Error:\", e)\n",
        "\n",
        "atm = ATM(balance=1000, pin=\"1234\")\n",
        "\n",
        "atm.withdraw(200, \"5678\")\n",
        "\n",
        "atm.withdraw(1500, \"1234\")\n",
        "\n",
        "atm.withdraw(-100, \"1234\")\n",
        "\n",
        "atm.withdraw(500, \"1234\")"
      ],
      "metadata": {
        "colab": {
          "base_uri": "https://localhost:8080/",
          "height": 0
        },
        "id": "bzwCLUJ88Du2",
        "outputId": "34fef4a7-ddbb-4b0f-ea61-85facff18b6d"
      },
      "execution_count": 50,
      "outputs": [
        {
          "output_type": "stream",
          "name": "stdout",
          "text": [
            "Error: Incorrect PIN. Please try again.\n",
            "Error: Insufficient funds.\n",
            "Error: Invalid withdrawal amount. Please enter a positive amount.\n",
            "Withdrawal successful. Remaining balance: 500\n"
          ]
        }
      ]
    },
    {
      "cell_type": "markdown",
      "source": [
        "**Question 24:**\n",
        " A small business wants to track inventory using a text file. Write a Python program that allows users to input item details, display all inventory records, and calculate the total value of the inventory.\n",
        "\n",
        "Challenge:\n",
        "\n",
        "Ensure that the program handles input errors gracefully and provides clear feedback to the user in case of invalid input."
      ],
      "metadata": {
        "id": "Umq17pi1GNJB"
      }
    },
    {
      "cell_type": "code",
      "source": [
        "class InventoryItem:\n",
        "    def __init__(self, name, quantity, price):\n",
        "        self.name = name\n",
        "        self.quantity = quantity\n",
        "        self.price = price\n",
        "\n",
        "    def get_total_value(self):\n",
        "        return self.quantity * self.price\n",
        "\n",
        "def input_inventory_item():\n",
        "    try:\n",
        "        name = input(\"Enter item name: \")\n",
        "        quantity = int(input(\"Enter quantity: \"))\n",
        "        price = float(input(\"Enter price per unit: \"))\n",
        "        return InventoryItem(name, quantity, price)\n",
        "    except ValueError:\n",
        "        print(\"Error: Invalid input. Please enter a valid quantity and price.\")\n",
        "\n",
        "def display_inventory(inventory):\n",
        "    print(\"\\nInventory Records:\")\n",
        "    for item in inventory:\n",
        "        print(f\"Name: {item.name}, Quantity: {item.quantity}, Price: {item.price}\")\n",
        "\n",
        "def calculate_total_value(inventory):\n",
        "    total_value = sum(item.get_total_value() for item in inventory)\n",
        "    print(f\"\\nTotal value of inventory: ${total_value:.2f}\")\n",
        "\n",
        "inventory = []\n",
        "\n",
        "while True:\n",
        "    print(\"\\nInventory Management Menu:\")\n",
        "    print(\"1. Add an item\")\n",
        "    print(\"2. Display all inventory records\")\n",
        "    print(\"3. Calculate total value of inventory\")\n",
        "    print(\"4. Exit\")\n",
        "    choice = input(\"Enter your choice (1-4): \")\n",
        "\n",
        "    if choice == '1':\n",
        "        item = input_inventory_item()\n",
        "        if item:\n",
        "            inventory.append(item)\n",
        "            print(\"Item added successfully.\")\n",
        "    elif choice == '2':\n",
        "        if inventory:\n",
        "            display_inventory(inventory)\n",
        "        else:\n",
        "            print(\"Inventory is empty.\")\n",
        "    elif choice == '3':\n",
        "        if inventory:\n",
        "            calculate_total_value(inventory)\n",
        "        else:\n",
        "            print(\"Inventory is empty.\")\n",
        "    elif choice == '4':\n",
        "        break\n",
        "    else:\n",
        "        print(\"Invalid choice. Please enter a number between 1 and 4.\")"
      ],
      "metadata": {
        "colab": {
          "base_uri": "https://localhost:8080/",
          "height": 0
        },
        "id": "LiFGX9F08coh",
        "outputId": "ea428a18-6337-4c26-d1ed-82a9b8ea1a40"
      },
      "execution_count": 52,
      "outputs": [
        {
          "name": "stdout",
          "output_type": "stream",
          "text": [
            "\n",
            "Inventory Management Menu:\n",
            "1. Add an item\n",
            "2. Display all inventory records\n",
            "3. Calculate total value of inventory\n",
            "4. Exit\n",
            "Enter your choice (1-4): 1\n",
            "Enter item name: chair\n",
            "Enter quantity: 10\n",
            "Enter price per unit: 1000\n",
            "Item added successfully.\n",
            "\n",
            "Inventory Management Menu:\n",
            "1. Add an item\n",
            "2. Display all inventory records\n",
            "3. Calculate total value of inventory\n",
            "4. Exit\n",
            "Enter your choice (1-4): 4\n"
          ]
        }
      ]
    },
    {
      "cell_type": "markdown",
      "source": [
        "**Question 25:**\n",
        "A scientific research project generates experimental data that needs to be stored in files for analysis. Develop a Python program that writes experimental data to text files, including metadata such as timestamps and experiment parameters.\n"
      ],
      "metadata": {
        "id": "bB1ErviJGNhm"
      }
    },
    {
      "cell_type": "code",
      "source": [
        "import os\n",
        "from datetime import datetime\n",
        "\n",
        "class ExperimentData:\n",
        "    def __init__(self, timestamp, parameters, data):\n",
        "        self.timestamp = timestamp\n",
        "        self.parameters = parameters\n",
        "        self.data = data\n",
        "\n",
        "def write_experiment_data(experiment_data, file_path):\n",
        "    try:\n",
        "        with open(file_path, 'w') as file:\n",
        "            file.write(f\"Timestamp: {experiment_data.timestamp}\\n\")\n",
        "            file.write(\"Experiment Parameters:\\n\")\n",
        "            for key, value in experiment_data.parameters.items():\n",
        "                file.write(f\"{key}: {value}\\n\")\n",
        "            file.write(\"Experimental Data:\\n\")\n",
        "            for item in experiment_data.data:\n",
        "                file.write(f\"{item}\\n\")\n",
        "        print(\"Experimental data written to file successfully.\")\n",
        "    except Exception as e:\n",
        "        print(\"Error:\", e)\n",
        "\n",
        "timestamp = datetime.now()\n",
        "parameters = {'Temperature': '25°C', 'Pressure': '1 atm'}\n",
        "data = ['Measurement 1: 10', 'Measurement 2: 15', 'Measurement 3: 20']\n",
        "experiment_data = ExperimentData(timestamp, parameters, data)\n",
        "\n",
        "file_path = \"experiment_data.txt\"\n",
        "write_experiment_data(experiment_data, file_path)"
      ],
      "metadata": {
        "colab": {
          "base_uri": "https://localhost:8080/",
          "height": 0
        },
        "id": "bVcsCq0x9S06",
        "outputId": "5b970ef6-09b6-4b3d-8f68-7934e20a467b"
      },
      "execution_count": 53,
      "outputs": [
        {
          "output_type": "stream",
          "name": "stdout",
          "text": [
            "Experimental data written to file successfully.\n"
          ]
        }
      ]
    },
    {
      "cell_type": "markdown",
      "source": [
        "**Question 26:**\n",
        "A research institute collects data from experiments conducted by scientists. Develop a Python program that reads experimental data from a text file, performs basic analysis (e.g., calculating averages, finding maximum values), and saves the results to an output file. Allow users to specify the input and output file paths.\n"
      ],
      "metadata": {
        "id": "Q5BpPjjJGN8y"
      }
    },
    {
      "cell_type": "code",
      "source": [
        "def read_data(file_path):\n",
        "    data = []\n",
        "    with open(file_path, 'r') as file:\n",
        "        for line in file:\n",
        "            # Assuming each line contains a single data point\n",
        "            data.append(float(line.strip()))\n",
        "    return data\n",
        "\n",
        "def calculate_average(data):\n",
        "    return sum(data) / len(data)\n",
        "\n",
        "def find_maximum(data):\n",
        "    return max(data)\n",
        "\n",
        "def save_results(file_path, results):\n",
        "    with open(file_path, 'w') as file:\n",
        "        for key, value in results.items():\n",
        "            file.write(f\"{key}: {value}\\n\")\n",
        "\n",
        "def main():\n",
        "    input_file_path = input(\"Enter the path to the input file: \")\n",
        "    output_file_path = input(\"Enter the path to the output file: \")\n",
        "\n",
        "    # Read data from input file\n",
        "    data = read_data(input_file_path)\n",
        "\n",
        "    # Perform basic analysis\n",
        "    average = calculate_average(data)\n",
        "    maximum = find_maximum(data)\n",
        "\n",
        "    # Save results to output file\n",
        "    results = {'Average': average, 'Maximum': maximum}\n",
        "    save_results(output_file_path, results)\n",
        "\n",
        "if __name__ == \"__main__\":\n",
        "    main()"
      ],
      "metadata": {
        "id": "Idx77TEc9mTw"
      },
      "execution_count": null,
      "outputs": []
    },
    {
      "cell_type": "markdown",
      "source": [
        "**Question 27:**\n",
        "An online bookstore wants to manage information about books, including title, author, genre, and price. Develop a Python program that defines a Book class with attributes and methods for managing book data.\n"
      ],
      "metadata": {
        "id": "2vz_6Ws5GOW5"
      }
    },
    {
      "cell_type": "code",
      "source": [
        "class Book:\n",
        "    def __init__(self, title, author, genre, price):\n",
        "        self.title = title\n",
        "        self.author = author\n",
        "        self.genre = genre\n",
        "        self.price = price\n",
        "\n",
        "    def display_info(self):\n",
        "        print(f'Title: {self.title}, Author: {self.author}, Genre: {self.genre}, Price: {self.price}')"
      ],
      "metadata": {
        "id": "KGrR4HNb9yMJ"
      },
      "execution_count": 55,
      "outputs": []
    },
    {
      "cell_type": "markdown",
      "source": [
        "**Question 28:**\n",
        "A car rental company wants to track information about rental vehicles, including make, model, year, and availability. Develop a Python program that defines a Car class with attributes and methods for managing rental vehicles.\n"
      ],
      "metadata": {
        "id": "LBV3T7_CGOx1"
      }
    },
    {
      "cell_type": "code",
      "source": [
        "class Car:\n",
        "    def __init__(self, make, model, year, availability=True):\n",
        "        self.make = make\n",
        "        self.model = model\n",
        "        self.year = year\n",
        "        self.availability = availability\n",
        "\n",
        "    def rent_car(self):\n",
        "        if self.availability:\n",
        "            self.availability = False\n",
        "            print('Car rented successfully.')\n",
        "        else:\n",
        "            print('Car is not available for rent.')"
      ],
      "metadata": {
        "id": "wpVwvtpx-Ch8"
      },
      "execution_count": 56,
      "outputs": []
    },
    {
      "cell_type": "markdown",
      "source": [
        "**Question 29:**\n",
        "Suppose you're building an online shopping platform. How would you implement an operator-based discount system that applies different discount rates based on the total purchase amount? Provide a Python code snippet to calculate the discounted price for a given purchase amount."
      ],
      "metadata": {
        "id": "_IdaHJHcGPLs"
      }
    },
    {
      "cell_type": "code",
      "source": [
        "def calculate_discounted_price(purchase_amount):\n",
        "    if purchase_amount >= 10000:\n",
        "        discount_rate = 0.4\n",
        "    elif 5000 <= purchase_amount < 10000:\n",
        "        discount_rate = 0.2\n",
        "    elif 3000 <= purchase_amount < 5000:\n",
        "        discount_rate = 0.1\n",
        "    else:\n",
        "        discount_rate = 0\n",
        "    return purchase_amount * (1 - discount_rate)"
      ],
      "metadata": {
        "id": "dp5IeOPy-HYF"
      },
      "execution_count": 57,
      "outputs": []
    },
    {
      "cell_type": "markdown",
      "source": [
        "**Question 30:**\n",
        "A travel agency wants to automate the process of booking flights for customers. Develop a Python program that prompts users to input travel preferences, searches for available flights, and generates booking confirmations.\n"
      ],
      "metadata": {
        "id": "5dkMmxGaGPlT"
      }
    },
    {
      "cell_type": "code",
      "source": [
        "origin = input('Enter origin: ')\n",
        "destination = input('Enter destination: ')\n",
        "date = input('Enter date: ')"
      ],
      "metadata": {
        "colab": {
          "base_uri": "https://localhost:8080/",
          "height": 0
        },
        "id": "5MN-SyPs-LJw",
        "outputId": "a09848c4-368d-4499-aceb-5c1025086e0e"
      },
      "execution_count": 58,
      "outputs": [
        {
          "name": "stdout",
          "output_type": "stream",
          "text": [
            "Enter origin: maa\n",
            "Enter destination: cuu\n",
            "Enter date: 12.03.2024\n"
          ]
        }
      ]
    },
    {
      "cell_type": "markdown",
      "source": [
        "**Question 31:**\n",
        "You're developing a program to analyze user comments on a social media platform. How would you handle the storage of user comments, considering that each comment may contain a mix of text, emojis, and hashtags? Recommend a Python data type or combination of data types to efficiently store this heterogeneous data and provide an example of how you would parse and process a sample comment."
      ],
      "metadata": {
        "id": "rB7naZbNGP94"
      }
    },
    {
      "cell_type": "code",
      "source": [
        "user_comment = {\n",
        "    'text': 'Great post! 😊 #Python #SocialMedia',\n",
        "    'emojis': ['😊'],\n",
        "    'hashtags': ['Python', 'SocialMedia']\n",
        "}"
      ],
      "metadata": {
        "id": "XZeX-Lp5-WNC"
      },
      "execution_count": 59,
      "outputs": []
    },
    {
      "cell_type": "markdown",
      "source": [
        "**Question 32:**\n",
        "You're tasked with designing a program to track financial transactions for a small business. Each transaction includes details such as transaction type (e.g., sale, expense), amount, and date. How would you structure the data to efficiently perform operations like calculating total revenue, expenses, and profit? Recommend a Python data type or structure and outline the process for storing and analyzing transaction data."
      ],
      "metadata": {
        "id": "rDwA6JYSOhLr"
      }
    },
    {
      "cell_type": "code",
      "source": [
        "transactions = [\n",
        "    {'type': 'Sale', 'amount': 100, 'date': '2023-03-15'},\n",
        "    {'type': 'Expense', 'amount': 50, 'date': '2023-03-16'}\n",
        "]\n",
        "\n",
        "total_revenue = sum(transaction['amount'] for transaction in transactions if transaction['type'] == 'sale')\n",
        "total_expenses = sum(transaction['amount'] for transaction in transactions if transaction['type'] == 'expense')\n",
        "profit = total_revenue - total_expenses"
      ],
      "metadata": {
        "id": "oofcg8tK-ZJj"
      },
      "execution_count": 65,
      "outputs": []
    },
    {
      "cell_type": "markdown",
      "source": [
        "**Question 33:**\n",
        "You're designing a smart home system where certain appliances are activated based on environmental conditions. How would you use bitwise operators to represent different sensor readings (e.g., temperature, humidity, light intensity) and trigger specific actions based on predefined thresholds? Provide a Python code snippet to illustrate this concept."
      ],
      "metadata": {
        "id": "dRSY_FaYOrnR"
      }
    },
    {
      "cell_type": "code",
      "source": [
        "temperature = 25\n",
        "humidity = 60\n",
        "light_intensity = 500\n",
        "\n",
        "TEMP_THRESHOLD = 30\n",
        "HUMIDITY_THRESHOLD = 70\n",
        "LIGHT_THRESHOLD = 1000\n",
        "\n",
        "sensor_readings = 0\n",
        "sensor_readings |= temperature << 16\n",
        "sensor_readings |= humidity << 8\n",
        "sensor_readings |= light_intensity\n",
        "\n",
        "if (sensor_readings >> 16) > TEMP_THRESHOLD:\n",
        "    print(\"Temperature threshold exceeded! Activating cooling system.\")\n",
        "\n",
        "if ((sensor_readings >> 8) & 0xFF) > HUMIDITY_THRESHOLD:\n",
        "    print(\"Humidity threshold exceeded! Activating dehumidifier.\")\n",
        "\n",
        "if (sensor_readings & 0xFF) > LIGHT_THRESHOLD:\n",
        "    print(\"Light intensity threshold exceeded! Turning on lights.\")"
      ],
      "metadata": {
        "id": "0DrDnrxx-cZo"
      },
      "execution_count": 64,
      "outputs": []
    },
    {
      "cell_type": "markdown",
      "source": [
        "**Question 34:**\n",
        "You're developing a program to encrypt and decrypt text messages using a custom encryption algorithm. How would you use bitwise XOR (^) operator to perform encryption and decryption operations on the message? Provide a Python code snippet to encrypt and decrypt a sample message."
      ],
      "metadata": {
        "id": "5UeEELToO48i"
      }
    },
    {
      "cell_type": "code",
      "source": [
        "message = 'Hello, world!'\n",
        "key = 0b10101010\n",
        "encrypted_message = ''.join(chr(ord(char) ^ key) for char in message)\n",
        "decrypted_message = ''.join(chr(ord(char) ^ key) for char in encrypted_message)"
      ],
      "metadata": {
        "id": "Dsq45D2j-pZ6"
      },
      "execution_count": 62,
      "outputs": []
    },
    {
      "cell_type": "markdown",
      "source": [
        "**Question:35**\n",
        "You're developing a language translation service that supports multiple languages. Each translation request consists of a source language, target language, and the text to be translated. How would you organize this information to handle translation requests efficiently? Recommend a Python data type or structure to manage translation requests and provide a sample code snippet to process a translation request."
      ],
      "metadata": {
        "id": "34eAkuWSnSgu"
      }
    },
    {
      "cell_type": "code",
      "source": [
        "translation_requests = {\n",
        "    'request1': {'source_language': 'English', 'target_language': 'Spanish', 'text': 'Hello'},\n",
        "    'request2': {'source_language': 'French', 'target_language': 'German', 'text': 'Bonjour'}\n",
        "}"
      ],
      "metadata": {
        "id": "i52S6EvE-rxM"
      },
      "execution_count": null,
      "outputs": []
    }
  ]
}